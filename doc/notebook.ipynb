{
 "cells": [
  {
   "cell_type": "markdown",
   "id": "c63353b1",
   "metadata": {},
   "source": [
    "# Learning with example\n",
    "---\n",
    "\n",
    "This tutorial introduces the fundamental concepts of FunctionalFilet through self-contained examples.\n",
    "\n",
    "At its core, FunctionalFilet provides two main features:\n",
    "\n",
    "    A semi-recurrent neural network constructor from a directed graph.\n",
    "    A learning algorithm coupling gradient descent and structural optimization by the evolution of a graph.\n",
    "\n",
    "We will use a problem of fitting $y=\\sin(x)$ with a third order polynomial as our running example. The network will be trained with gradient descent and graph evolution algorithm to fit random data by minimizing the Euclidean distance between the network output and the true output."
   ]
  },
  {
   "cell_type": "markdown",
   "id": "4569e4fe",
   "metadata": {},
   "source": [
    "## 1 - Import model\n",
    "---\n",
    "\n",
    "In this part we will import the model in python and check some properties during the import."
   ]
  },
  {
   "cell_type": "code",
   "execution_count": null,
   "id": "8c499c4b",
   "metadata": {},
   "outputs": [],
   "source": [
    "# import package\n",
    "from functionalfilet import model as ff\n",
    "import torch\n",
    "\n",
    "model = ff.FunctionalFilet(TYPE=\"regress\")"
   ]
  },
  {
   "cell_type": "markdown",
   "id": "9467953f",
   "metadata": {},
   "source": [
    "The model creates several networks in parallel, the first is a control layer without a graph builder. See the model parameters with the *help* function. To see the composition of the two layers, we do:"
   ]
  },
  {
   "cell_type": "code",
   "execution_count": null,
   "id": "a0fcf409",
   "metadata": {},
   "outputs": [],
   "source": [
    "#help(ff.FunctionalFilet)\n",
    "print(model.SEEDER_LIST[0],'\\n', model.SEEDER_LIST[1])"
   ]
  },
  {
   "cell_type": "markdown",
   "id": "201d5fad",
   "metadata": {},
   "source": [
    "Note that the parallel neural networks contain \"enn_block\" layers with inputs of 64 neurons and 16 output neurons. Now we are going to build input/outputs of a different size to what is written in the network, and we are going to train it to fit the desired function in the next part."
   ]
  },
  {
   "cell_type": "code",
   "execution_count": null,
   "id": "c27bc2bf",
   "metadata": {},
   "outputs": [],
   "source": [
    "## function to approximate\n",
    "f = lambda x : torch.sin(x)\n",
    "X = torch.linspace(0,10,100)[None]\n",
    "y = f(X)"
   ]
  },
  {
   "cell_type": "markdown",
   "id": "ea2aefa7",
   "metadata": {},
   "source": [
    "## 2 - Train model\n",
    "---"
   ]
  },
  {
   "cell_type": "code",
   "execution_count": null,
   "id": "42d5ea15",
   "metadata": {},
   "outputs": [],
   "source": []
  },
  {
   "cell_type": "code",
   "execution_count": null,
   "id": "9277c33b",
   "metadata": {},
   "outputs": [],
   "source": []
  },
  {
   "cell_type": "code",
   "execution_count": null,
   "id": "2eba11dd",
   "metadata": {},
   "outputs": [],
   "source": []
  },
  {
   "cell_type": "markdown",
   "id": "bcbc3c81",
   "metadata": {},
   "source": [
    "## 3 - Manipulate model\n",
    "---"
   ]
  },
  {
   "cell_type": "code",
   "execution_count": null,
   "id": "c17a7b76",
   "metadata": {},
   "outputs": [],
   "source": []
  },
  {
   "cell_type": "code",
   "execution_count": null,
   "id": "26bb384c",
   "metadata": {},
   "outputs": [],
   "source": []
  },
  {
   "cell_type": "code",
   "execution_count": null,
   "id": "d090b461",
   "metadata": {},
   "outputs": [],
   "source": []
  },
  {
   "cell_type": "markdown",
   "id": "252acdc2",
   "metadata": {},
   "source": [
    "### Supplementary\n",
    "---\n",
    "\n",
    "For more examples, look at the files contained in the example folder of the Github project :\n",
    "\n",
    "- functionalfilet/\n",
    "    - branding/\n",
    "    - dist/\n",
    "    - doc/\n",
    "    - **example/**\n",
    "        - uat_regression.py\n",
    "        - blob_classification.py\n",
    "        - gym_RL-CartPole-v0.py\n",
    "    - functionalfilet/\n",
    "    - README.rst\n",
    "    - requirements.txt\n",
    "    - setup.py\n",
    "\n",
    "**Attention**, in these examples, the parameters of the models are not fully optimized for learning. For that, you have to play with the **train_size**, **nb_seeder** and **batch** parameters so that the model learns better from the input data. You can also increase the sample size of the dataset in case of overfitting or even change the optimization functions."
   ]
  }
 ],
 "metadata": {
  "kernelspec": {
   "display_name": "Python 3",
   "language": "python",
   "name": "python3"
  },
  "language_info": {
   "codemirror_mode": {
    "name": "ipython",
    "version": 3
   },
   "file_extension": ".py",
   "mimetype": "text/x-python",
   "name": "python",
   "nbconvert_exporter": "python",
   "pygments_lexer": "ipython3",
   "version": "3.5.10"
  }
 },
 "nbformat": 4,
 "nbformat_minor": 5
}
